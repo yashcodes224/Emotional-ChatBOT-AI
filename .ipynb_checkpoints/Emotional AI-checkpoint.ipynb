{
 "cells": [
  {
   "cell_type": "code",
   "execution_count": null,
   "id": "c4cf66e7",
   "metadata": {},
   "outputs": [],
   "source": [
    "import random\n",
    "\n",
    "class EmotionalSupportAnimalChatbot:\n",
    "    def __init__(self, name):\n",
    "        self.name = name\n",
    "        self.responses = {\n",
    "            'greeting': [\"Hello! I'm {} your emotional support companion.\", \"Hi there! I'm {}.\", \"Hey! I'm {}!\"],\n",
    "            'comfort': [\"I'm here to provide comfort and support.\", \"You're not alone. I'm here for you.\", \"Feel free to share your thoughts with me.\"],\n",
    "            'encouragement': [\n",
    "                \"You're doing great!\",\n",
    "                \"Remember, each day is a new opportunity.\",\n",
    "                \"I believe in you!\",\n",
    "                \"You have the strength to overcome any challenge.\",\n",
    "                \"Your effort is making a difference. Keep going!\",\n",
    "                \"Take small steps every day, and progress will follow.\",\n",
    "                \"Your journey is unique, and you're making it extraordinary.\",\n",
    "                \"You're resilient, and you'll emerge stronger from tough times.\",\n",
    "                \"Don't forget to celebrate your achievements, no matter how small.\"\n",
    "            ],\n",
    "            'farewell': [\"Take care! Reach out whenever you need.\", \"Goodbye for now! I'll be here whenever you want to chat.\", \"Remember, I'm just a message away.\"]\n",
    "        }\n",
    "\n",
    "    def get_response(self, category):\n",
    "        return random.choice(self.responses[category])\n",
    "\n",
    "    def start_conversation(self):\n",
    "        print(self.get_response('greeting').format(self.name))\n",
    "        print(self.get_response('comfort'))\n",
    "\n",
    "    def chat_loop(self):\n",
    "        self.start_conversation()\n",
    "\n",
    "        while True:\n",
    "            user_input = input(\"You: \").lower()\n",
    "\n",
    "            if 'bye' in user_input:\n",
    "                print(self.get_response('farewell'))\n",
    "                break\n",
    "            elif 'encourage' in user_input:\n",
    "                print(self.get_response('encouragement'))\n",
    "            else:\n",
    "                print(\"I'm here to listen. If you need encouragement, type 'encourage'. If you want to exit, type 'bye'.\")\n",
    "\n",
    "# Create an instance of the EmotionalSupportAnimalChatbot\n",
    "bot_name = \"Buddy\"\n",
    "esa_bot = EmotionalSupportAnimalChatbot(bot_name)\n",
    "\n",
    "# Start the chat loop\n",
    "esa_bot.chat_loop()\n"
   ]
  },
  {
   "cell_type": "code",
   "execution_count": null,
   "id": "c7a13f5b",
   "metadata": {},
   "outputs": [],
   "source": []
  },
  {
   "cell_type": "code",
   "execution_count": null,
   "id": "51e266bb",
   "metadata": {},
   "outputs": [],
   "source": []
  },
  {
   "cell_type": "code",
   "execution_count": null,
   "id": "16727b36",
   "metadata": {},
   "outputs": [],
   "source": []
  },
  {
   "cell_type": "code",
   "execution_count": null,
   "id": "c18a1d2e",
   "metadata": {},
   "outputs": [],
   "source": []
  },
  {
   "cell_type": "code",
   "execution_count": null,
   "id": "8d8950c2",
   "metadata": {},
   "outputs": [],
   "source": []
  },
  {
   "cell_type": "code",
   "execution_count": null,
   "id": "dfe9d84c",
   "metadata": {},
   "outputs": [],
   "source": []
  }
 ],
 "metadata": {
  "kernelspec": {
   "display_name": "Python 3 (ipykernel)",
   "language": "python",
   "name": "python3"
  },
  "language_info": {
   "codemirror_mode": {
    "name": "ipython",
    "version": 3
   },
   "file_extension": ".py",
   "mimetype": "text/x-python",
   "name": "python",
   "nbconvert_exporter": "python",
   "pygments_lexer": "ipython3",
   "version": "3.9.12"
  }
 },
 "nbformat": 4,
 "nbformat_minor": 5
}
