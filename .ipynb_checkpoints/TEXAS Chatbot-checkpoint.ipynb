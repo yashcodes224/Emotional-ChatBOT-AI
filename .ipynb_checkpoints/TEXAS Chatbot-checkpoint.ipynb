{
 "cells": [
  {
   "cell_type": "code",
   "execution_count": 4,
   "id": "b80b273b",
   "metadata": {},
   "outputs": [
    {
     "name": "stdout",
     "output_type": "stream",
     "text": [
      "Requirement already satisfied: chatterbot in c:\\users\\asus\\anaconda03\\lib\\site-packages (1.0.4)\n",
      "Requirement already satisfied: nltk<4.0,>=3.2 in c:\\users\\asus\\anaconda03\\lib\\site-packages (from chatterbot) (3.7)\n",
      "Collecting python-dateutil<2.8,>=2.7\n",
      "  Using cached python_dateutil-2.7.5-py2.py3-none-any.whl (225 kB)\n",
      "Requirement already satisfied: pymongo<4.0,>=3.3 in c:\\users\\asus\\anaconda03\\lib\\site-packages (from chatterbot) (3.13.0)\n",
      "Requirement already satisfied: chatterbot-corpus<1.3,>=1.2 in c:\\users\\asus\\anaconda03\\lib\\site-packages (from chatterbot) (1.2.0)\n",
      "Requirement already satisfied: sqlalchemy<1.3,>=1.2 in c:\\users\\asus\\anaconda03\\lib\\site-packages (from chatterbot) (1.2.19)\n",
      "Requirement already satisfied: mathparse<0.2,>=0.1 in c:\\users\\asus\\anaconda03\\lib\\site-packages (from chatterbot) (0.1.2)\n",
      "Requirement already satisfied: pint>=0.8.1 in c:\\users\\asus\\anaconda03\\lib\\site-packages (from chatterbot) (0.20.1)\n",
      "Collecting PyYAML<4.0,>=3.12\n",
      "  Using cached PyYAML-3.13-cp39-cp39-win_amd64.whl\n",
      "Requirement already satisfied: click in c:\\users\\asus\\anaconda03\\lib\\site-packages (from nltk<4.0,>=3.2->chatterbot) (8.0.4)\n",
      "Requirement already satisfied: tqdm in c:\\users\\asus\\anaconda03\\lib\\site-packages (from nltk<4.0,>=3.2->chatterbot) (4.64.0)\n",
      "Requirement already satisfied: joblib in c:\\users\\asus\\anaconda03\\lib\\site-packages (from nltk<4.0,>=3.2->chatterbot) (1.3.1)\n",
      "Requirement already satisfied: regex>=2021.8.3 in c:\\users\\asus\\anaconda03\\lib\\site-packages (from nltk<4.0,>=3.2->chatterbot) (2022.3.15)\n",
      "Requirement already satisfied: six>=1.5 in c:\\users\\asus\\anaconda03\\lib\\site-packages (from python-dateutil<2.8,>=2.7->chatterbot) (1.16.0)\n",
      "Requirement already satisfied: colorama in c:\\users\\asus\\anaconda03\\lib\\site-packages (from click->nltk<4.0,>=3.2->chatterbot) (0.4.4)\n",
      "Installing collected packages: PyYAML, python-dateutil\n",
      "  Attempting uninstall: PyYAML\n",
      "    Found existing installation: PyYAML 6.0.1\n",
      "    Uninstalling PyYAML-6.0.1:\n",
      "      Successfully uninstalled PyYAML-6.0.1\n",
      "  Attempting uninstall: python-dateutil\n",
      "    Found existing installation: python-dateutil 2.8.2\n",
      "    Uninstalling python-dateutil-2.8.2:\n",
      "      Successfully uninstalled python-dateutil-2.8.2\n",
      "Successfully installed PyYAML-3.13 python-dateutil-2.7.5\n"
     ]
    },
    {
     "name": "stderr",
     "output_type": "stream",
     "text": [
      "ERROR: pip's dependency resolver does not currently take into account all the packages that are installed. This behaviour is the source of the following dependency conflicts.\n",
      "conda-repo-cli 1.0.4 requires pathlib, which is not installed.\n",
      "woodwork 0.22.0 requires python-dateutil>=2.8.1, but you have python-dateutil 2.7.5 which is incompatible.\n",
      "pandas 2.0.3 requires python-dateutil>=2.8.2, but you have python-dateutil 2.7.5 which is incompatible.\n",
      "dask 2022.2.1 requires pyyaml>=5.3.1, but you have pyyaml 3.13 which is incompatible.\n"
     ]
    },
    {
     "name": "stdout",
     "output_type": "stream",
     "text": [
      "Requirement already satisfied: chatterbot-corpus in c:\\users\\asus\\anaconda03\\lib\\site-packages (1.2.0)\n",
      "Requirement already satisfied: PyYAML<4.0,>=3.12 in c:\\users\\asus\\anaconda03\\lib\\site-packages (from chatterbot-corpus) (3.13)\n"
     ]
    }
   ],
   "source": [
    "!pip install chatterbot\n",
    "!pip install chatterbot-corpus"
   ]
  },
  {
   "cell_type": "code",
   "execution_count": 5,
   "id": "e89749f0",
   "metadata": {},
   "outputs": [
    {
     "name": "stderr",
     "output_type": "stream",
     "text": [
      "C:\\Users\\ASUS\\anaconda03\\lib\\site-packages\\scipy\\__init__.py:146: UserWarning: A NumPy version >=1.16.5 and <1.23.0 is required for this version of SciPy (detected version 1.23.5\n",
      "  warnings.warn(f\"A NumPy version >={np_minversion} and <{np_maxversion}\"\n"
     ]
    }
   ],
   "source": [
    "from chatterbot import ChatBot\n",
    "from chatterbot.trainers import ListTrainer  \n",
    "from chatterbot.trainers import ChatterBotCorpusTrainer "
   ]
  },
  {
   "cell_type": "code",
   "execution_count": 6,
   "id": "66556e14",
   "metadata": {},
   "outputs": [
    {
     "name": "stderr",
     "output_type": "stream",
     "text": [
      "[nltk_data] Downloading package averaged_perceptron_tagger to\n",
      "[nltk_data]     C:\\Users\\ASUS\\AppData\\Roaming\\nltk_data...\n",
      "[nltk_data]   Package averaged_perceptron_tagger is already up-to-\n",
      "[nltk_data]       date!\n",
      "[nltk_data] Downloading package punkt to\n",
      "[nltk_data]     C:\\Users\\ASUS\\AppData\\Roaming\\nltk_data...\n",
      "[nltk_data]   Package punkt is already up-to-date!\n",
      "[nltk_data] Downloading package stopwords to\n",
      "[nltk_data]     C:\\Users\\ASUS\\AppData\\Roaming\\nltk_data...\n",
      "[nltk_data]   Package stopwords is already up-to-date!\n"
     ]
    }
   ],
   "source": [
    "myBot = ChatBot('TEXAS') "
   ]
  },
  {
   "cell_type": "code",
   "execution_count": 7,
   "id": "defac768",
   "metadata": {},
   "outputs": [
    {
     "name": "stderr",
     "output_type": "stream",
     "text": [
      "[nltk_data] Downloading package averaged_perceptron_tagger to\n",
      "[nltk_data]     C:\\Users\\ASUS\\AppData\\Roaming\\nltk_data...\n",
      "[nltk_data]   Package averaged_perceptron_tagger is already up-to-\n",
      "[nltk_data]       date!\n",
      "[nltk_data] Downloading package punkt to\n",
      "[nltk_data]     C:\\Users\\ASUS\\AppData\\Roaming\\nltk_data...\n",
      "[nltk_data]   Package punkt is already up-to-date!\n",
      "[nltk_data] Downloading package stopwords to\n",
      "[nltk_data]     C:\\Users\\ASUS\\AppData\\Roaming\\nltk_data...\n",
      "[nltk_data]   Package stopwords is already up-to-date!\n"
     ]
    }
   ],
   "source": [
    "myBot = ChatBot(\n",
    "    'TEXAS',\n",
    "    storage_adapter='chatterbot.storage.SQLStorageAdapter',\n",
    "    database_uri='sqlite:///database.sqlite3'\n",
    ")"
   ]
  },
  {
   "cell_type": "code",
   "execution_count": 8,
   "id": "f71b0dc8",
   "metadata": {},
   "outputs": [
    {
     "name": "stderr",
     "output_type": "stream",
     "text": [
      "[nltk_data] Downloading package averaged_perceptron_tagger to\n",
      "[nltk_data]     C:\\Users\\ASUS\\AppData\\Roaming\\nltk_data...\n",
      "[nltk_data]   Package averaged_perceptron_tagger is already up-to-\n",
      "[nltk_data]       date!\n",
      "[nltk_data] Downloading package punkt to\n",
      "[nltk_data]     C:\\Users\\ASUS\\AppData\\Roaming\\nltk_data...\n",
      "[nltk_data]   Package punkt is already up-to-date!\n",
      "[nltk_data] Downloading package stopwords to\n",
      "[nltk_data]     C:\\Users\\ASUS\\AppData\\Roaming\\nltk_data...\n",
      "[nltk_data]   Package stopwords is already up-to-date!\n"
     ]
    }
   ],
   "source": [
    "myBot = ChatBot(\n",
    "    'TEXAS',  \n",
    "    logic_adapters=[\n",
    "        'chatterbot.logic.BestMatch',\n",
    "        'chatterbot.logic.TimeLogicAdapter'],\n",
    ")"
   ]
  },
  {
   "cell_type": "code",
   "execution_count": 9,
   "id": "e34d194b",
   "metadata": {},
   "outputs": [
    {
     "name": "stdout",
     "output_type": "stream",
     "text": [
      "List Trainer: [####################] 100%\n"
     ]
    }
   ],
   "source": [
    "from chatterbot.trainers import ListTrainer\n",
    "\n",
    "trainer = ListTrainer(myBot)\n",
    "\n",
    "trainer.train([\n",
    "'Hi',\n",
    "'Hello',\n",
    "'Who are you?',    \n",
    "'I am TEXAS, Your helping bot',\n",
    "'Which department is this?',    \n",
    "'This is the department of AI&ML',\n",
    "'Who is the H.O.D of AI&ML DEpartment',\n",
    "'Mr. Vinish Kumar is the H.O.D of AI&ML Department',   \n",
    "'I have a complaint.',\n",
    "'Please elaborate, your concern',\n",
    "'How long a lecture goes on?',\n",
    "'A lecture is being delivered around 50 minutes',\n",
    "'Okay Thanks',\n",
    "'No Problem! Have a Good Day!'\n",
    "])"
   ]
  },
  {
   "cell_type": "code",
   "execution_count": 10,
   "id": "7c518369",
   "metadata": {},
   "outputs": [
    {
     "name": "stdout",
     "output_type": "stream",
     "text": [
      "Bot Response: Please elaborate, your concern\n"
     ]
    }
   ],
   "source": [
    "response = myBot.get_response('I have a complaint.')\n",
    "\n",
    "print(\"Bot Response:\", response)"
   ]
  },
  {
   "cell_type": "code",
   "execution_count": 11,
   "id": "c59d8b2e",
   "metadata": {},
   "outputs": [
    {
     "name": "stdout",
     "output_type": "stream",
     "text": [
      "Bot Response: I am TEXAS, Your helping bot\n"
     ]
    }
   ],
   "source": [
    "response = myBot.get_response('Who are you?')\n",
    "\n",
    "print(\"Bot Response:\", response)"
   ]
  },
  {
   "cell_type": "code",
   "execution_count": 12,
   "id": "bc642509",
   "metadata": {},
   "outputs": [
    {
     "name": "stdout",
     "output_type": "stream",
     "text": [
      "Bot Response: This is the department of AI&ML\n"
     ]
    }
   ],
   "source": [
    "response = myBot.get_response('Which department is this?')\n",
    "\n",
    "print(\"Bot Response:\", response)"
   ]
  },
  {
   "cell_type": "code",
   "execution_count": 13,
   "id": "4873f4e1",
   "metadata": {},
   "outputs": [
    {
     "name": "stdout",
     "output_type": "stream",
     "text": [
      "Bot Response: No Problem! Have a Good Day!\n"
     ]
    }
   ],
   "source": [
    "response = myBot.get_response('Okay Thanks')\n",
    "\n",
    "print(\"Bot Response:\", response)"
   ]
  },
  {
   "cell_type": "code",
   "execution_count": null,
   "id": "889a7d7f",
   "metadata": {},
   "outputs": [],
   "source": []
  }
 ],
 "metadata": {
  "kernelspec": {
   "display_name": "Python 3 (ipykernel)",
   "language": "python",
   "name": "python3"
  },
  "language_info": {
   "codemirror_mode": {
    "name": "ipython",
    "version": 3
   },
   "file_extension": ".py",
   "mimetype": "text/x-python",
   "name": "python",
   "nbconvert_exporter": "python",
   "pygments_lexer": "ipython3",
   "version": "3.9.12"
  }
 },
 "nbformat": 4,
 "nbformat_minor": 5
}
